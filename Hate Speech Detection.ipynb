{
 "cells": [
  {
   "cell_type": "code",
   "execution_count": 1,
   "metadata": {},
   "outputs": [],
   "source": [
    "import pandas as pa\n",
    "import numpy as np\n",
    "import nltk\n",
    "\n",
    "from nltk import word_tokenize\n",
    "from nltk.corpus import stopwords\n",
    "from nltk.stem import WordNetLemmatizer\n",
    "\n",
    "import string\n",
    "import enchant\n",
    "import warnings\n",
    "warnings.filterwarnings('ignore')"
   ]
  },
  {
   "cell_type": "markdown",
   "metadata": {},
   "source": [
    "# Step-1 Load the data"
   ]
  },
  {
   "cell_type": "code",
   "execution_count": 2,
   "metadata": {},
   "outputs": [
    {
     "data": {
      "text/html": [
       "<div>\n",
       "<style scoped>\n",
       "    .dataframe tbody tr th:only-of-type {\n",
       "        vertical-align: middle;\n",
       "    }\n",
       "\n",
       "    .dataframe tbody tr th {\n",
       "        vertical-align: top;\n",
       "    }\n",
       "\n",
       "    .dataframe thead th {\n",
       "        text-align: right;\n",
       "    }\n",
       "</style>\n",
       "<table border=\"1\" class=\"dataframe\">\n",
       "  <thead>\n",
       "    <tr style=\"text-align: right;\">\n",
       "      <th></th>\n",
       "      <th>id</th>\n",
       "      <th>comment_text</th>\n",
       "      <th>toxic</th>\n",
       "      <th>severe_toxic</th>\n",
       "      <th>obscene</th>\n",
       "      <th>threat</th>\n",
       "      <th>insult</th>\n",
       "      <th>identity_hate</th>\n",
       "    </tr>\n",
       "  </thead>\n",
       "  <tbody>\n",
       "    <tr>\n",
       "      <th>0</th>\n",
       "      <td>0000997932d777bf</td>\n",
       "      <td>Explanation\\nWhy the edits made under my usern...</td>\n",
       "      <td>0</td>\n",
       "      <td>0</td>\n",
       "      <td>0</td>\n",
       "      <td>0</td>\n",
       "      <td>0</td>\n",
       "      <td>0</td>\n",
       "    </tr>\n",
       "    <tr>\n",
       "      <th>1</th>\n",
       "      <td>000103f0d9cfb60f</td>\n",
       "      <td>D'aww! He matches this background colour I'm s...</td>\n",
       "      <td>0</td>\n",
       "      <td>0</td>\n",
       "      <td>0</td>\n",
       "      <td>0</td>\n",
       "      <td>0</td>\n",
       "      <td>0</td>\n",
       "    </tr>\n",
       "    <tr>\n",
       "      <th>2</th>\n",
       "      <td>000113f07ec002fd</td>\n",
       "      <td>Hey man, I'm really not trying to edit war. It...</td>\n",
       "      <td>0</td>\n",
       "      <td>0</td>\n",
       "      <td>0</td>\n",
       "      <td>0</td>\n",
       "      <td>0</td>\n",
       "      <td>0</td>\n",
       "    </tr>\n",
       "    <tr>\n",
       "      <th>3</th>\n",
       "      <td>0001b41b1c6bb37e</td>\n",
       "      <td>\"\\nMore\\nI can't make any real suggestions on ...</td>\n",
       "      <td>0</td>\n",
       "      <td>0</td>\n",
       "      <td>0</td>\n",
       "      <td>0</td>\n",
       "      <td>0</td>\n",
       "      <td>0</td>\n",
       "    </tr>\n",
       "    <tr>\n",
       "      <th>4</th>\n",
       "      <td>0001d958c54c6e35</td>\n",
       "      <td>You, sir, are my hero. Any chance you remember...</td>\n",
       "      <td>0</td>\n",
       "      <td>0</td>\n",
       "      <td>0</td>\n",
       "      <td>0</td>\n",
       "      <td>0</td>\n",
       "      <td>0</td>\n",
       "    </tr>\n",
       "  </tbody>\n",
       "</table>\n",
       "</div>"
      ],
      "text/plain": [
       "                 id                                       comment_text  toxic  \\\n",
       "0  0000997932d777bf  Explanation\\nWhy the edits made under my usern...      0   \n",
       "1  000103f0d9cfb60f  D'aww! He matches this background colour I'm s...      0   \n",
       "2  000113f07ec002fd  Hey man, I'm really not trying to edit war. It...      0   \n",
       "3  0001b41b1c6bb37e  \"\\nMore\\nI can't make any real suggestions on ...      0   \n",
       "4  0001d958c54c6e35  You, sir, are my hero. Any chance you remember...      0   \n",
       "\n",
       "   severe_toxic  obscene  threat  insult  identity_hate  \n",
       "0             0        0       0       0              0  \n",
       "1             0        0       0       0              0  \n",
       "2             0        0       0       0              0  \n",
       "3             0        0       0       0              0  \n",
       "4             0        0       0       0              0  "
      ]
     },
     "execution_count": 2,
     "metadata": {},
     "output_type": "execute_result"
    }
   ],
   "source": [
    "df = pa.read_csv('data.csv')\n",
    "df.head()"
   ]
  },
  {
   "cell_type": "code",
   "execution_count": 3,
   "metadata": {},
   "outputs": [
    {
     "data": {
      "text/plain": [
       "['toxic', 'severe_toxic', 'obscene', 'threat', 'insult', 'identity_hate']"
      ]
     },
     "execution_count": 3,
     "metadata": {},
     "output_type": "execute_result"
    }
   ],
   "source": [
    "LABELS = list(df.columns)  # getting all columns\n",
    "CLASS_LABELS = LABELS[2:]  # selecting only classes\n",
    "CLASS_LABELS"
   ]
  },
  {
   "cell_type": "code",
   "execution_count": 4,
   "metadata": {},
   "outputs": [
    {
     "name": "stdout",
     "output_type": "stream",
     "text": [
      "toxic            139\n",
      "severe_toxic      15\n",
      "obscene           68\n",
      "threat             7\n",
      "insult            69\n",
      "identity_hate     14\n",
      "dtype: int64\n"
     ]
    },
    {
     "data": {
      "text/plain": [
       "<AxesSubplot:>"
      ]
     },
     "execution_count": 4,
     "metadata": {},
     "output_type": "execute_result"
    },
    {
     "data": {
      "image/png": "[encoded data removed]",
      "text/plain": [
       "<Figure size 576x432 with 1 Axes>"
      ]
     },
     "metadata": {
      "needs_background": "light"
     },
     "output_type": "display_data"
    }
   ],
   "source": [
    "#the data is multilabeled i.e each comment contains more than one class.\n",
    "#Below is the count of each class for the number of comments.\n",
    "count = df[CLASS_LABELS].sum()\n",
    "print(count)\n",
    "count.plot.bar(figsize=(8, 6))"
   ]
  },
  {
   "cell_type": "code",
   "execution_count": 5,
   "metadata": {},
   "outputs": [
    {
     "data": {
      "text/html": [
       "<div>\n",
       "<style scoped>\n",
       "    .dataframe tbody tr th:only-of-type {\n",
       "        vertical-align: middle;\n",
       "    }\n",
       "\n",
       "    .dataframe tbody tr th {\n",
       "        vertical-align: top;\n",
       "    }\n",
       "\n",
       "    .dataframe thead th {\n",
       "        text-align: right;\n",
       "    }\n",
       "</style>\n",
       "<table border=\"1\" class=\"dataframe\">\n",
       "  <thead>\n",
       "    <tr style=\"text-align: right;\">\n",
       "      <th></th>\n",
       "      <th>comment_text</th>\n",
       "      <th>toxic</th>\n",
       "      <th>severe_toxic</th>\n",
       "      <th>obscene</th>\n",
       "      <th>threat</th>\n",
       "      <th>insult</th>\n",
       "      <th>identity_hate</th>\n",
       "    </tr>\n",
       "  </thead>\n",
       "  <tbody>\n",
       "    <tr>\n",
       "      <th>0</th>\n",
       "      <td>Explanation\\nWhy the edits made under my usern...</td>\n",
       "      <td>0</td>\n",
       "      <td>0</td>\n",
       "      <td>0</td>\n",
       "      <td>0</td>\n",
       "      <td>0</td>\n",
       "      <td>0</td>\n",
       "    </tr>\n",
       "    <tr>\n",
       "      <th>1</th>\n",
       "      <td>D'aww! He matches this background colour I'm s...</td>\n",
       "      <td>0</td>\n",
       "      <td>0</td>\n",
       "      <td>0</td>\n",
       "      <td>0</td>\n",
       "      <td>0</td>\n",
       "      <td>0</td>\n",
       "    </tr>\n",
       "    <tr>\n",
       "      <th>2</th>\n",
       "      <td>Hey man, I'm really not trying to edit war. It...</td>\n",
       "      <td>0</td>\n",
       "      <td>0</td>\n",
       "      <td>0</td>\n",
       "      <td>0</td>\n",
       "      <td>0</td>\n",
       "      <td>0</td>\n",
       "    </tr>\n",
       "    <tr>\n",
       "      <th>3</th>\n",
       "      <td>\"\\nMore\\nI can't make any real suggestions on ...</td>\n",
       "      <td>0</td>\n",
       "      <td>0</td>\n",
       "      <td>0</td>\n",
       "      <td>0</td>\n",
       "      <td>0</td>\n",
       "      <td>0</td>\n",
       "    </tr>\n",
       "    <tr>\n",
       "      <th>4</th>\n",
       "      <td>You, sir, are my hero. Any chance you remember...</td>\n",
       "      <td>0</td>\n",
       "      <td>0</td>\n",
       "      <td>0</td>\n",
       "      <td>0</td>\n",
       "      <td>0</td>\n",
       "      <td>0</td>\n",
       "    </tr>\n",
       "    <tr>\n",
       "      <th>5</th>\n",
       "      <td>\"\\n\\nCongratulations from me as well, use the ...</td>\n",
       "      <td>0</td>\n",
       "      <td>0</td>\n",
       "      <td>0</td>\n",
       "      <td>0</td>\n",
       "      <td>0</td>\n",
       "      <td>0</td>\n",
       "    </tr>\n",
       "    <tr>\n",
       "      <th>6</th>\n",
       "      <td>COCKSUCKER BEFORE YOU PISS AROUND ON MY WORK</td>\n",
       "      <td>1</td>\n",
       "      <td>1</td>\n",
       "      <td>1</td>\n",
       "      <td>0</td>\n",
       "      <td>1</td>\n",
       "      <td>0</td>\n",
       "    </tr>\n",
       "    <tr>\n",
       "      <th>7</th>\n",
       "      <td>Your vandalism to the Matt Shirvington article...</td>\n",
       "      <td>0</td>\n",
       "      <td>0</td>\n",
       "      <td>0</td>\n",
       "      <td>0</td>\n",
       "      <td>0</td>\n",
       "      <td>0</td>\n",
       "    </tr>\n",
       "    <tr>\n",
       "      <th>8</th>\n",
       "      <td>Sorry if the word 'nonsense' was offensive to ...</td>\n",
       "      <td>0</td>\n",
       "      <td>0</td>\n",
       "      <td>0</td>\n",
       "      <td>0</td>\n",
       "      <td>0</td>\n",
       "      <td>0</td>\n",
       "    </tr>\n",
       "    <tr>\n",
       "      <th>9</th>\n",
       "      <td>alignment on this subject and which are contra...</td>\n",
       "      <td>0</td>\n",
       "      <td>0</td>\n",
       "      <td>0</td>\n",
       "      <td>0</td>\n",
       "      <td>0</td>\n",
       "      <td>0</td>\n",
       "    </tr>\n",
       "    <tr>\n",
       "      <th>10</th>\n",
       "      <td>\"\\nFair use rationale for Image:Wonju.jpg\\n\\nT...</td>\n",
       "      <td>0</td>\n",
       "      <td>0</td>\n",
       "      <td>0</td>\n",
       "      <td>0</td>\n",
       "      <td>0</td>\n",
       "      <td>0</td>\n",
       "    </tr>\n",
       "  </tbody>\n",
       "</table>\n",
       "</div>"
      ],
      "text/plain": [
       "                                         comment_text  toxic  severe_toxic  \\\n",
       "0   Explanation\\nWhy the edits made under my usern...      0             0   \n",
       "1   D'aww! He matches this background colour I'm s...      0             0   \n",
       "2   Hey man, I'm really not trying to edit war. It...      0             0   \n",
       "3   \"\\nMore\\nI can't make any real suggestions on ...      0             0   \n",
       "4   You, sir, are my hero. Any chance you remember...      0             0   \n",
       "5   \"\\n\\nCongratulations from me as well, use the ...      0             0   \n",
       "6        COCKSUCKER BEFORE YOU PISS AROUND ON MY WORK      1             1   \n",
       "7   Your vandalism to the Matt Shirvington article...      0             0   \n",
       "8   Sorry if the word 'nonsense' was offensive to ...      0             0   \n",
       "9   alignment on this subject and which are contra...      0             0   \n",
       "10  \"\\nFair use rationale for Image:Wonju.jpg\\n\\nT...      0             0   \n",
       "\n",
       "    obscene  threat  insult  identity_hate  \n",
       "0         0       0       0              0  \n",
       "1         0       0       0              0  \n",
       "2         0       0       0              0  \n",
       "3         0       0       0              0  \n",
       "4         0       0       0              0  \n",
       "5         0       0       0              0  \n",
       "6         1       0       1              0  \n",
       "7         0       0       0              0  \n",
       "8         0       0       0              0  \n",
       "9         0       0       0              0  \n",
       "10        0       0       0              0  "
      ]
     },
     "execution_count": 5,
     "metadata": {},
     "output_type": "execute_result"
    }
   ],
   "source": [
    "new_df = df.drop('id',axis=1)\n",
    "new_df.head(11)"
   ]
  },
  {
   "cell_type": "code",
   "execution_count": 6,
   "metadata": {},
   "outputs": [
    {
     "data": {
      "text/html": [
       "<div>\n",
       "<style scoped>\n",
       "    .dataframe tbody tr th:only-of-type {\n",
       "        vertical-align: middle;\n",
       "    }\n",
       "\n",
       "    .dataframe tbody tr th {\n",
       "        vertical-align: top;\n",
       "    }\n",
       "\n",
       "    .dataframe thead th {\n",
       "        text-align: right;\n",
       "    }\n",
       "</style>\n",
       "<table border=\"1\" class=\"dataframe\">\n",
       "  <thead>\n",
       "    <tr style=\"text-align: right;\">\n",
       "      <th></th>\n",
       "      <th>comment_text</th>\n",
       "      <th>toxic</th>\n",
       "      <th>severe_toxic</th>\n",
       "      <th>obscene</th>\n",
       "      <th>threat</th>\n",
       "      <th>insult</th>\n",
       "      <th>identity_hate</th>\n",
       "    </tr>\n",
       "  </thead>\n",
       "  <tbody>\n",
       "    <tr>\n",
       "      <th>1379</th>\n",
       "      <td>\"I'm back. I already created  ID (occasionally...</td>\n",
       "      <td>0</td>\n",
       "      <td>0</td>\n",
       "      <td>0</td>\n",
       "      <td>0</td>\n",
       "      <td>0</td>\n",
       "      <td>0</td>\n",
       "    </tr>\n",
       "    <tr>\n",
       "      <th>1380</th>\n",
       "      <td>Name \\n\\nThe college has changed its name to s...</td>\n",
       "      <td>0</td>\n",
       "      <td>0</td>\n",
       "      <td>0</td>\n",
       "      <td>0</td>\n",
       "      <td>0</td>\n",
       "      <td>0</td>\n",
       "    </tr>\n",
       "    <tr>\n",
       "      <th>1381</th>\n",
       "      <td>\"\\n\\n Upcoming album, Screaming Bloody Murder ...</td>\n",
       "      <td>0</td>\n",
       "      <td>0</td>\n",
       "      <td>0</td>\n",
       "      <td>0</td>\n",
       "      <td>0</td>\n",
       "      <td>0</td>\n",
       "    </tr>\n",
       "    <tr>\n",
       "      <th>1382</th>\n",
       "      <td>Too many parentheses. \\n\\nIt sounds to persona...</td>\n",
       "      <td>0</td>\n",
       "      <td>0</td>\n",
       "      <td>0</td>\n",
       "      <td>0</td>\n",
       "      <td>0</td>\n",
       "      <td>0</td>\n",
       "    </tr>\n",
       "    <tr>\n",
       "      <th>1383</th>\n",
       "      <td>Can you, or anyone, please tell me what's goin...</td>\n",
       "      <td>0</td>\n",
       "      <td>0</td>\n",
       "      <td>0</td>\n",
       "      <td>0</td>\n",
       "      <td>0</td>\n",
       "      <td>0</td>\n",
       "    </tr>\n",
       "  </tbody>\n",
       "</table>\n",
       "</div>"
      ],
      "text/plain": [
       "                                           comment_text  toxic  severe_toxic  \\\n",
       "1379  \"I'm back. I already created  ID (occasionally...      0             0   \n",
       "1380  Name \\n\\nThe college has changed its name to s...      0             0   \n",
       "1381  \"\\n\\n Upcoming album, Screaming Bloody Murder ...      0             0   \n",
       "1382  Too many parentheses. \\n\\nIt sounds to persona...      0             0   \n",
       "1383  Can you, or anyone, please tell me what's goin...      0             0   \n",
       "\n",
       "      obscene  threat  insult  identity_hate  \n",
       "1379        0       0       0              0  \n",
       "1380        0       0       0              0  \n",
       "1381        0       0       0              0  \n",
       "1382        0       0       0              0  \n",
       "1383        0       0       0              0  "
      ]
     },
     "execution_count": 6,
     "metadata": {},
     "output_type": "execute_result"
    }
   ],
   "source": [
    "new_df.tail()"
   ]
  },
  {
   "cell_type": "code",
   "execution_count": 7,
   "metadata": {},
   "outputs": [],
   "source": [
    "label_list = []\n",
    "for i in range(0,1384):\n",
    "    toxic = new_df['toxic'][i]\n",
    "    severe_toxic = new_df['severe_toxic'][i]\n",
    "    obscene = new_df['obscene'][i]\n",
    "    threat = new_df['threat'][i]\n",
    "    insult = new_df['insult'][i]\n",
    "    identity_hate = new_df['identity_hate'][i]\n",
    "    ans = 'none'\n",
    "    if severe_toxic == 1:\n",
    "        ans = 'severe_toxic'\n",
    "    elif obscene == 1:\n",
    "        ans = 'obscene'\n",
    "    elif threat == 1:\n",
    "        ans = 'threat'\n",
    "    elif insult == 1:\n",
    "        ans = 'insult'\n",
    "    elif identity_hate == 1:\n",
    "        ans = 'identity_hate'\n",
    "    elif toxic == 1:\n",
    "        ans = 'toxic'\n",
    "    else:\n",
    "        ans = 'none'\n",
    "    label_list.append(ans)     \n",
    "    \n",
    "new_df['final_label'] = label_list"
   ]
  },
  {
   "cell_type": "code",
   "execution_count": 8,
   "metadata": {},
   "outputs": [
    {
     "data": {
      "text/plain": [
       "array(['none', 'severe_toxic', 'toxic', 'obscene', 'threat', 'insult'],\n",
       "      dtype=object)"
      ]
     },
     "execution_count": 8,
     "metadata": {},
     "output_type": "execute_result"
    }
   ],
   "source": [
    "new_df['final_label'].unique()"
   ]
  },
  {
   "cell_type": "code",
   "execution_count": 9,
   "metadata": {},
   "outputs": [],
   "source": [
    "# getting all comment_text in single list to perform preprocessing easily\n",
    "comment_list = []\n",
    "new_list = []\n",
    "for w in new_df['comment_text']:\n",
    "    comment_list.append(w)\n",
    "\n",
    "import re\n",
    "for w in comment_list:\n",
    "    n = re.sub(\"[^A-Za-z]+\",\" \",w)\n",
    "    new_list.append(n)"
   ]
  },
  {
   "cell_type": "markdown",
   "metadata": {},
   "source": [
    "# Step-2 Pre-Processing"
   ]
  },
  {
   "cell_type": "code",
   "execution_count": 10,
   "metadata": {},
   "outputs": [],
   "source": [
    "# PreProcessing steps\n",
    "stop_words = set(stopwords.words('english'))\n",
    "stop_words.remove('not')\n",
    "filtered_list=[]\n",
    "for w in new_list:\n",
    "    word=word_tokenize(w)\n",
    "    for a in word:\n",
    "        if a not in stop_words:\n",
    "            if a not in string.punctuation:\n",
    "                if a.startswith(\"n't\"):\n",
    "                    a=a.replace(\"n't\",'not')\n",
    "                if a not in filtered_list:\n",
    "                    filtered_list.append(a) "
   ]
  },
  {
   "cell_type": "markdown",
   "metadata": {},
   "source": [
    "# Step-3 Feature Extraction"
   ]
  },
  {
   "cell_type": "code",
   "execution_count": 11,
   "metadata": {},
   "outputs": [],
   "source": [
    "from sklearn.feature_extraction.text import CountVectorizer\n",
    "count_vec = CountVectorizer()\n",
    "count = count_vec.fit(filtered_list)"
   ]
  },
  {
   "cell_type": "markdown",
   "metadata": {},
   "source": [
    "# Step-4 Build and Train the Model"
   ]
  },
  {
   "cell_type": "code",
   "execution_count": 12,
   "metadata": {},
   "outputs": [],
   "source": [
    "from sklearn.model_selection import train_test_split\n",
    "from sklearn.metrics import classification_report,confusion_matrix\n",
    "from sklearn.neighbors import KNeighborsClassifier\n",
    "from sklearn.linear_model import LogisticRegression\n",
    "from sklearn.ensemble import RandomForestClassifier\n",
    "from sklearn.svm import SVC\n",
    "from sklearn.naive_bayes import MultinomialNB\n",
    "\n",
    "# models\n",
    "knn = KNeighborsClassifier(n_neighbors=1)\n",
    "log_reg = LogisticRegression()\n",
    "rfc = RandomForestClassifier(n_estimators=100)\n",
    "svc = SVC()\n",
    "naive = MultinomialNB()\n",
    "\n",
    "X_train, X_test, y_train, y_test = train_test_split(new_df['comment_text'],new_df['final_label'], test_size=0.20, random_state = 0)"
   ]
  },
  {
   "cell_type": "code",
   "execution_count": 13,
   "metadata": {},
   "outputs": [],
   "source": [
    "q = count.transform(X_train)"
   ]
  },
  {
   "cell_type": "code",
   "execution_count": 14,
   "metadata": {},
   "outputs": [],
   "source": [
    "X_test = count.transform(X_test)"
   ]
  },
  {
   "cell_type": "markdown",
   "metadata": {},
   "source": [
    "# K-nearest Neighbour"
   ]
  },
  {
   "cell_type": "code",
   "execution_count": 15,
   "metadata": {},
   "outputs": [
    {
     "name": "stdout",
     "output_type": "stream",
     "text": [
      "[[  0   1   0   0   1]\n",
      " [  2 242   5   0   5]\n",
      " [  0   4   3   0   1]\n",
      " [  0   2   0   0   0]\n",
      " [  1   8   1   1   0]]\n",
      "              precision    recall  f1-score   support\n",
      "\n",
      "      insult       0.00      0.00      0.00         2\n",
      "        none       0.94      0.95      0.95       254\n",
      "     obscene       0.33      0.38      0.35         8\n",
      "severe_toxic       0.00      0.00      0.00         2\n",
      "       toxic       0.00      0.00      0.00        11\n",
      "\n",
      "    accuracy                           0.88       277\n",
      "   macro avg       0.25      0.27      0.26       277\n",
      "weighted avg       0.87      0.88      0.88       277\n",
      "\n"
     ]
    }
   ],
   "source": [
    "knn.fit(q,y_train)\n",
    "pred = knn.predict(X_test)\n",
    "\n",
    "print(confusion_matrix(y_test,pred))\n",
    "print(classification_report(y_test,pred))"
   ]
  },
  {
   "cell_type": "markdown",
   "metadata": {},
   "source": [
    "# Logistic Regression"
   ]
  },
  {
   "cell_type": "code",
   "execution_count": 16,
   "metadata": {},
   "outputs": [
    {
     "name": "stdout",
     "output_type": "stream",
     "text": [
      "[[  0   2   0   0   0]\n",
      " [  0 252   0   0   2]\n",
      " [  0   4   3   0   1]\n",
      " [  0   0   2   0   0]\n",
      " [  0  10   1   0   0]]\n",
      "              precision    recall  f1-score   support\n",
      "\n",
      "      insult       0.00      0.00      0.00         2\n",
      "        none       0.94      0.99      0.97       254\n",
      "     obscene       0.50      0.38      0.43         8\n",
      "severe_toxic       0.00      0.00      0.00         2\n",
      "       toxic       0.00      0.00      0.00        11\n",
      "\n",
      "    accuracy                           0.92       277\n",
      "   macro avg       0.29      0.27      0.28       277\n",
      "weighted avg       0.88      0.92      0.90       277\n",
      "\n"
     ]
    }
   ],
   "source": [
    "log_reg.fit(q,y_train)\n",
    "pred = log_reg.predict(X_test)\n",
    "\n",
    "print(confusion_matrix(y_test,pred))\n",
    "print(classification_report(y_test,pred))"
   ]
  },
  {
   "cell_type": "markdown",
   "metadata": {},
   "source": [
    "# Random Forest Classifier"
   ]
  },
  {
   "cell_type": "code",
   "execution_count": 17,
   "metadata": {},
   "outputs": [
    {
     "name": "stdout",
     "output_type": "stream",
     "text": [
      "[[  0   2   0   0   0]\n",
      " [  0 254   0   0   0]\n",
      " [  0   6   2   0   0]\n",
      " [  0   2   0   0   0]\n",
      " [  0  11   0   0   0]]\n",
      "              precision    recall  f1-score   support\n",
      "\n",
      "      insult       0.00      0.00      0.00         2\n",
      "        none       0.92      1.00      0.96       254\n",
      "     obscene       1.00      0.25      0.40         8\n",
      "severe_toxic       0.00      0.00      0.00         2\n",
      "       toxic       0.00      0.00      0.00        11\n",
      "\n",
      "    accuracy                           0.92       277\n",
      "   macro avg       0.38      0.25      0.27       277\n",
      "weighted avg       0.88      0.92      0.89       277\n",
      "\n"
     ]
    }
   ],
   "source": [
    "rfc.fit(q,y_train)\n",
    "pred = rfc.predict(X_test)\n",
    "\n",
    "print(confusion_matrix(y_test,pred))\n",
    "print(classification_report(y_test,pred))"
   ]
  },
  {
   "cell_type": "markdown",
   "metadata": {},
   "source": [
    "# Support Vector Machine"
   ]
  },
  {
   "cell_type": "code",
   "execution_count": 18,
   "metadata": {},
   "outputs": [
    {
     "name": "stdout",
     "output_type": "stream",
     "text": [
      "[[  0   2   0   0   0]\n",
      " [  0 254   0   0   0]\n",
      " [  0   8   0   0   0]\n",
      " [  0   2   0   0   0]\n",
      " [  0  11   0   0   0]]\n",
      "              precision    recall  f1-score   support\n",
      "\n",
      "      insult       0.00      0.00      0.00         2\n",
      "        none       0.92      1.00      0.96       254\n",
      "     obscene       0.00      0.00      0.00         8\n",
      "severe_toxic       0.00      0.00      0.00         2\n",
      "       toxic       0.00      0.00      0.00        11\n",
      "\n",
      "    accuracy                           0.92       277\n",
      "   macro avg       0.18      0.20      0.19       277\n",
      "weighted avg       0.84      0.92      0.88       277\n",
      "\n"
     ]
    }
   ],
   "source": [
    "svc.fit(q,y_train)\n",
    "pred = svc.predict(X_test)\n",
    "\n",
    "print(confusion_matrix(y_test,pred))\n",
    "print(classification_report(y_test,pred))"
   ]
  },
  {
   "cell_type": "markdown",
   "metadata": {},
   "source": [
    "# Multinomial Naive Bayes "
   ]
  },
  {
   "cell_type": "code",
   "execution_count": 19,
   "metadata": {
    "scrolled": true
   },
   "outputs": [
    {
     "name": "stdout",
     "output_type": "stream",
     "text": [
      "[[  0   2   0   0   0]\n",
      " [  2 250   0   0   2]\n",
      " [  0   6   2   0   0]\n",
      " [  0   2   0   0   0]\n",
      " [  0  11   0   0   0]]\n",
      "              precision    recall  f1-score   support\n",
      "\n",
      "      insult       0.00      0.00      0.00         2\n",
      "        none       0.92      0.98      0.95       254\n",
      "     obscene       1.00      0.25      0.40         8\n",
      "severe_toxic       0.00      0.00      0.00         2\n",
      "       toxic       0.00      0.00      0.00        11\n",
      "\n",
      "    accuracy                           0.91       277\n",
      "   macro avg       0.38      0.25      0.27       277\n",
      "weighted avg       0.87      0.91      0.88       277\n",
      "\n"
     ]
    }
   ],
   "source": [
    "naive.fit(q,y_train)\n",
    "pred = naive.predict(X_test)\n",
    "\n",
    "print(confusion_matrix(y_test,pred))\n",
    "print(classification_report(y_test,pred))"
   ]
  }
 ],
 "metadata": {
  "kernelspec": {
   "display_name": "Python 3",
   "language": "python",
   "name": "python3"
  },
  "language_info": {
   "codemirror_mode": {
    "name": "ipython",
    "version": 3
   },
   "file_extension": ".py",
   "mimetype": "text/x-python",
   "name": "python",
   "nbconvert_exporter": "python",
   "pygments_lexer": "ipython3",
   "version": "3.8.5"
  }
 },
 "nbformat": 4,
 "nbformat_minor": 4
}
